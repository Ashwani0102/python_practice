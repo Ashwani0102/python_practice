{
  "cells": [
    {
      "cell_type": "markdown",
      "metadata": {
        "id": "view-in-github",
        "colab_type": "text"
      },
      "source": [
        "<a href=\"https://colab.research.google.com/github/Ashwani0102/python_practice/blob/main/Assignment.ipynb\" target=\"_parent\"><img src=\"https://colab.research.google.com/assets/colab-badge.svg\" alt=\"Open In Colab\"/></a>"
      ]
    },
    {
      "cell_type": "code",
      "source": [
        "# Multiplication table of a number till 10\n",
        "number = int(input(\"Enter the number for multiplication table :\")) #Input asked from user\n",
        "for i in range(1,11): # Loop initilizing from 1 to 10\n",
        "     output=number*i   # Multiplying number\n",
        "     print(number,\"*\",i,\"=\",output) #Output"
      ],
      "metadata": {
        "id": "1mJWzjcOz2cI",
        "outputId": "bfb9fcde-bd2d-4929-c898-c2057210941a",
        "colab": {
          "base_uri": "https://localhost:8080/"
        }
      },
      "execution_count": null,
      "outputs": [
        {
          "output_type": "stream",
          "name": "stdout",
          "text": [
            "Enter the number for multiplication table :5\n",
            "5 * 1 = 5\n",
            "5 * 2 = 10\n",
            "5 * 3 = 15\n",
            "5 * 4 = 20\n",
            "5 * 5 = 25\n",
            "5 * 6 = 30\n",
            "5 * 7 = 35\n",
            "5 * 8 = 40\n",
            "5 * 9 = 45\n",
            "5 * 10 = 50\n"
          ]
        }
      ]
    },
    {
      "cell_type": "code",
      "execution_count": null,
      "metadata": {
        "id": "zwFnJsE6vjf8",
        "outputId": "67ab57e8-4323-406f-d7b2-446e361935fe",
        "colab": {
          "base_uri": "https://localhost:8080/"
        }
      },
      "outputs": [
        {
          "output_type": "stream",
          "name": "stdout",
          "text": [
            "Enter the number for calculating sum of array and average :5\n",
            "The sum of numbers in an array till input number is : 15\n",
            "The average of numbers in an array till input number is : 3.0\n"
          ]
        }
      ],
      "source": [
        "# Array Sum and Average\n",
        "number = int(input(\"Enter the number for calculating sum of array and average :\")) #Input asked from user\n",
        "sum=0 # Initilizing initial value to 0\n",
        "i=1   # Initilizing the loop to start from 1\n",
        "while i<=number: # Loop set to run from 1 to input number\n",
        "     sum=sum+i    # Suming up the input number\n",
        "     i=i+1        # Incremental the value of i to 1\n",
        "average=sum/number # Calculating average of number in float\n",
        "# Output the results\n",
        "print(\"The sum of numbers in an array till input number is :\",sum)\n",
        "print(\"The average of numbers in an array till input number is :\",average)\n"
      ]
    },
    {
      "cell_type": "code",
      "source": [
        "# Maximum and Minimum in an array\n",
        "smallest=float('inf')  # Initialize smallest to positive infinity\n",
        "largest=float('-inf')  # Initialize largest to negative infinity\n",
        "while True:  # Starting a Infinite Loop\n",
        "    number = int(input(\"Enter the numbers to find the smallest and largest among those(Negative number to stop):\")) #Input\n",
        "    if number<1:  # Check if the entered number is negative\n",
        "        break     # Exit the loop if a negative number is entered\n",
        "    elif number < smallest: # Check if the number is smaller than the current smallest\n",
        "        smallest=number     # Update smallest if a smaller number is found\n",
        "    else:\n",
        "        largest=number      # Update largest if a larger number is found\n",
        "# Output the results\n",
        "print(\"The smallest number entered is:\",smallest)\n",
        "print(\"The largest number entered is:\",largest)"
      ],
      "metadata": {
        "id": "ryzVScsp0nAi",
        "outputId": "a1935cda-270b-4a26-bc84-cf3f769c3532",
        "colab": {
          "base_uri": "https://localhost:8080/"
        }
      },
      "execution_count": null,
      "outputs": [
        {
          "output_type": "stream",
          "name": "stdout",
          "text": [
            "Enter the numbers to find the smallest and largest among those(Negative number to stop):4\n",
            "Enter the numbers to find the smallest and largest among those(Negative number to stop):5\n",
            "Enter the numbers to find the smallest and largest among those(Negative number to stop):6\n",
            "Enter the numbers to find the smallest and largest among those(Negative number to stop):7\n",
            "Enter the numbers to find the smallest and largest among those(Negative number to stop):3\n",
            "Enter the numbers to find the smallest and largest among those(Negative number to stop):87\n",
            "Enter the numbers to find the smallest and largest among those(Negative number to stop):1\n",
            "Enter the numbers to find the smallest and largest among those(Negative number to stop):0\n",
            "The smallest number entered is: 1\n",
            "The largest number entered is: 87\n"
          ]
        }
      ]
    },
    {
      "cell_type": "code",
      "source": [
        "# Binary Search for index\n",
        "li=[1,2,3,4,5,6]\n",
        "target=4\n",
        "left=0\n",
        "right=len(li)-1\n",
        "while left<=right:\n",
        "    mid=(left+right)//2\n",
        "    if li[mid]==target:\n",
        "       print(\"The target number is present in index :\",mid)\n",
        "       break\n",
        "    elif li[mid]<target:\n",
        "        left=mid+1\n",
        "    else:\n",
        "        right=mid-1\n",
        "else:\n",
        "    print(\"Target number not found\")"
      ],
      "metadata": {
        "id": "2HFTluiy054O",
        "outputId": "8b948bed-318f-4ce7-ef6b-c026c3bb62d8",
        "colab": {
          "base_uri": "https://localhost:8080/"
        }
      },
      "execution_count": 1,
      "outputs": [
        {
          "output_type": "stream",
          "name": "stdout",
          "text": [
            "The target number is present in index : 3\n"
          ]
        }
      ]
    }
  ],
  "metadata": {
    "colab": {
      "toc_visible": true,
      "provenance": [],
      "include_colab_link": true
    },
    "kernelspec": {
      "display_name": "Python 3",
      "name": "python3"
    }
  },
  "nbformat": 4,
  "nbformat_minor": 0
}